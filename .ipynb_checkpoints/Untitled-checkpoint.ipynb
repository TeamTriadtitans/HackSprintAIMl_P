{
 "cells": [
  {
   "cell_type": "code",
   "execution_count": 3,
   "id": "34c89ff7-e7bb-422d-a468-afbc0c572d96",
   "metadata": {},
   "outputs": [],
   "source": [
    "import pandas as pd\n",
    "from textblob import TextBlob\n",
    "import csv\n"
   ]
  },
  {
   "cell_type": "code",
   "execution_count": 4,
   "id": "b439a8da-2c14-4a45-a1e9-001069dc46a8",
   "metadata": {},
   "outputs": [],
   "source": [
    "def get_sentiment(text):\n",
    "    blob = TextBlob(text)\n",
    "    return blob.sentiment.polarity"
   ]
  },
  {
   "cell_type": "code",
   "execution_count": 5,
   "id": "72f5cd2e-44cd-433a-9bfc-0459719da71c",
   "metadata": {},
   "outputs": [
    {
     "name": "stdout",
     "output_type": "stream",
     "text": [
      "<class 'pandas.core.frame.DataFrame'>\n",
      "RangeIndex: 343 entries, 0 to 342\n",
      "Data columns (total 15 columns):\n",
      " #   Column             Non-Null Count  Dtype  \n",
      "---  ------             --------------  -----  \n",
      " 0   Unnamed: 0         343 non-null    int64  \n",
      " 1   ProductUrl         343 non-null    object \n",
      " 2   productTitle       343 non-null    object \n",
      " 3   productPrice       343 non-null    object \n",
      " 4   averageRating      343 non-null    float64\n",
      " 5   reviewTitle        343 non-null    object \n",
      " 6   reviewDescription  343 non-null    object \n",
      " 7   reviewAuthor       343 non-null    object \n",
      " 8   reviewAt           343 non-null    object \n",
      " 9   reviewLikes        343 non-null    int64  \n",
      " 10  reviewDislikes     343 non-null    int64  \n",
      " 11  certifiedBuyer     343 non-null    bool   \n",
      " 12  reviewerLocation   343 non-null    object \n",
      " 13  scrapedAt          343 non-null    object \n",
      " 14  uniqId             343 non-null    object \n",
      "dtypes: bool(1), float64(1), int64(3), object(10)\n",
      "memory usage: 38.0+ KB\n"
     ]
    },
    {
     "data": {
      "text/plain": [
       "343"
      ]
     },
     "execution_count": 5,
     "metadata": {},
     "output_type": "execute_result"
    }
   ],
   "source": [
    "data = pd.read_csv(r\"D:\\HackSprint\\flipkart_review_data_2022_02.csv\")\n",
    "data.info()\n",
    "data.shape[0]"
   ]
  },
  {
   "cell_type": "code",
   "execution_count": 23,
   "id": "01dceaed-1bd7-4be2-9901-4beb8b722c8e",
   "metadata": {},
   "outputs": [
    {
     "name": "stdout",
     "output_type": "stream",
     "text": [
      "<class 'str'>\n",
      "Nice and super picture quality.and sound also very good.but only one disappointed viewing angal not so good.\n",
      "0.2119047619047619\n",
      "10\n"
     ]
    }
   ],
   "source": [
    "Review = str(data[\"reviewDescription\"][1])\n",
    "print(type(Review))\n",
    "print(Review)\n",
    "value = get_sentiment(Review)\n",
    "print(value)\n",
    "print(data.shape[0]-333)"
   ]
  },
  {
   "cell_type": "code",
   "execution_count": 27,
   "id": "f0f29c1d-14bd-48da-9aec-a8430a2c5fc1",
   "metadata": {},
   "outputs": [],
   "source": [
    "with open(\"output.csv\" , 'w' , newline = \"\") as file:\n",
    "    write = csv.writer(file)\n",
    "    fields = [\"Product\" , \"UserName\" , \"Review\" , \"Tag\"]\n",
    "    write.writerow(fields)"
   ]
  },
  {
   "cell_type": "code",
   "execution_count": 34,
   "id": "3400412b-6e30-4990-8465-daa9b2c1021a",
   "metadata": {},
   "outputs": [],
   "source": [
    "for index in range(0 , data.shape[0]-333):\n",
    "    with open(\"output.csv\" , 'w' , newline = '') as file:\n",
    "        write = csv.writer(file)\n",
    "        fields = [\"Product\" , \"UserName\" , \"Review\" , \"Tag\"]\n",
    "        write.writerow(fields)\n",
    "        for i in range(0 , index):\n",
    "            Product = data[\"productTitle\"][i]\n",
    "            Name = data[\"reviewAuthor\"][i]\n",
    "            Review = data[\"reviewDescription\"][i]\n",
    "            write.writerow([Product , Name , Review])\n",
    "            "
   ]
  },
  {
   "cell_type": "code",
   "execution_count": null,
   "id": "4eb042a4-e9c0-43ee-bf6d-181d76ea6f1a",
   "metadata": {},
   "outputs": [],
   "source": []
  }
 ],
 "metadata": {
  "kernelspec": {
   "display_name": "Python 3 (ipykernel)",
   "language": "python",
   "name": "python3"
  },
  "language_info": {
   "codemirror_mode": {
    "name": "ipython",
    "version": 3
   },
   "file_extension": ".py",
   "mimetype": "text/x-python",
   "name": "python",
   "nbconvert_exporter": "python",
   "pygments_lexer": "ipython3",
   "version": "3.11.1"
  }
 },
 "nbformat": 4,
 "nbformat_minor": 5
}
