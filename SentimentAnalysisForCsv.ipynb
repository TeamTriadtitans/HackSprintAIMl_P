{
 "cells": [
  {
   "cell_type": "code",
   "execution_count": 3,
   "id": "34c89ff7-e7bb-422d-a468-afbc0c572d96",
   "metadata": {},
   "outputs": [],
   "source": [
    "import pandas as pd\n",
    "from textblob import TextBlob\n",
    "import csv\n"
   ]
  },
  {
   "cell_type": "code",
   "execution_count": 4,
   "id": "b439a8da-2c14-4a45-a1e9-001069dc46a8",
   "metadata": {},
   "outputs": [],
   "source": [
    "def get_sentiment(text):\n",
    "    blob = TextBlob(text)\n",
    "    return blob.sentiment.polarity"
   ]
  },
  {
   "cell_type": "code",
   "execution_count": 40,
   "id": "72f5cd2e-44cd-433a-9bfc-0459719da71c",
   "metadata": {},
   "outputs": [
    {
     "name": "stdout",
     "output_type": "stream",
     "text": [
      "<class 'pandas.core.frame.DataFrame'>\n",
      "RangeIndex: 6823 entries, 0 to 6822\n",
      "Data columns (total 11 columns):\n",
      " #   Column             Non-Null Count  Dtype  \n",
      "---  ------             --------------  -----  \n",
      " 0   url                6823 non-null   object \n",
      " 1   product_name       6823 non-null   object \n",
      " 2   reviewer_name      6823 non-null   object \n",
      " 3   review_title       6822 non-null   object \n",
      " 4   review_text        6814 non-null   object \n",
      " 5   review_rating      6823 non-null   float64\n",
      " 6   verified_purchase  6823 non-null   bool   \n",
      " 7   review_date        6823 non-null   object \n",
      " 8   helpful_count      1953 non-null   object \n",
      " 9   uniq_id            6823 non-null   object \n",
      " 10  scraped_at         6823 non-null   object \n",
      "dtypes: bool(1), float64(1), object(9)\n",
      "memory usage: 539.8+ KB\n"
     ]
    },
    {
     "data": {
      "text/plain": [
       "6823"
      ]
     },
     "execution_count": 40,
     "metadata": {},
     "output_type": "execute_result"
    }
   ],
   "source": [
    "data = pd.read_csv(r\"D:\\HackSprint\\amazon_uk_shoes_products_dataset_2021_12 (1).csv\")\n",
    "data.info()\n",
    "data.shape[0]"
   ]
  },
  {
   "cell_type": "code",
   "execution_count": 48,
   "id": "01dceaed-1bd7-4be2-9901-4beb8b722c8e",
   "metadata": {},
   "outputs": [
    {
     "name": "stdout",
     "output_type": "stream",
     "text": [
      "10\n"
     ]
    }
   ],
   "source": [
    "\n",
    "print(data.shape[0]-6813)"
   ]
  },
  {
   "cell_type": "code",
   "execution_count": 27,
   "id": "f0f29c1d-14bd-48da-9aec-a8430a2c5fc1",
   "metadata": {},
   "outputs": [],
   "source": [
    "with open(\"output.csv\" , 'w' , newline = \"\") as file:\n",
    "    write = csv.writer(file)\n",
    "    fields = [\"Product\" , \"UserName\" , \"Review\" , \"Tag\"]\n",
    "    write.writerow(fields)"
   ]
  },
  {
   "cell_type": "code",
   "execution_count": 50,
   "id": "3400412b-6e30-4990-8465-daa9b2c1021a",
   "metadata": {},
   "outputs": [],
   "source": [
    "for index in range(0 , data.shape[0]-6813):\n",
    "    with open(\"output.csv\" , 'w' , newline = '' ,encoding=\"utf8\") as file:\n",
    "        write = csv.writer(file)\n",
    "        fields = [\"Product\" , \"UserName\" , \"Review\" , \"Tag\"]\n",
    "        write.writerow(fields)\n",
    "        for i in range(0 , index):\n",
    "            Product = data[\"product_name\"][i]\n",
    "            Name = data[\"reviewer_name\"][i]\n",
    "            Review = data[\"review_text\"][i]\n",
    "            value = get_sentiment(Review)\n",
    "            if value > 0:\n",
    "                output = \"Positive\"\n",
    "            elif value < 0:\n",
    "                output = \"Negative\"\n",
    "            else:\n",
    "                output = \"Neutral\"\n",
    "            write.writerow([Product , Name , Review , output])\n",
    "            "
   ]
  },
  {
   "cell_type": "code",
   "execution_count": null,
   "id": "4eb042a4-e9c0-43ee-bf6d-181d76ea6f1a",
   "metadata": {},
   "outputs": [],
   "source": []
  }
 ],
 "metadata": {
  "kernelspec": {
   "display_name": "Python 3 (ipykernel)",
   "language": "python",
   "name": "python3"
  },
  "language_info": {
   "codemirror_mode": {
    "name": "ipython",
    "version": 3
   },
   "file_extension": ".py",
   "mimetype": "text/x-python",
   "name": "python",
   "nbconvert_exporter": "python",
   "pygments_lexer": "ipython3",
   "version": "3.11.1"
  }
 },
 "nbformat": 4,
 "nbformat_minor": 5
}
